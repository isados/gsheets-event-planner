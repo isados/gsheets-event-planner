{
 "cells": [
  {
   "cell_type": "code",
   "execution_count": 1,
   "metadata": {},
   "outputs": [],
   "source": [
    "import pandas as pd\n",
    "from datetime import datetime, timedelta\n",
    "import util_calendar"
   ]
  },
  {
   "cell_type": "code",
   "execution_count": 2,
   "metadata": {},
   "outputs": [],
   "source": [
    "import pygsheets\n",
    "gc = pygsheets.authorize(client_secret = 'creds_google/credentials.json')"
   ]
  },
  {
   "cell_type": "code",
   "execution_count": 3,
   "metadata": {},
   "outputs": [],
   "source": [
    "sh = gc.open_by_key('1GDXzzTD1dBnXWcpjPXqfIjpLwxHtXVQtjwfLhCaZNHA')"
   ]
  },
  {
   "cell_type": "code",
   "execution_count": 4,
   "metadata": {},
   "outputs": [],
   "source": [
    "study_sheet = sh.worksheet_by_title(\"STUDY-PLAN\")"
   ]
  },
  {
   "cell_type": "code",
   "execution_count": 27,
   "metadata": {},
   "outputs": [],
   "source": [
    "df = study_sheet.get_as_df(start=\"A\", end=\"G\")\n",
    "df"
   ]
  },
  {
   "cell_type": "code",
   "execution_count": 29,
   "metadata": {},
   "outputs": [],
   "source": [
    "# Helpful Functions        \n",
    "def calendar_dict(series):\n",
    "    # Create a new calendar event from this event\n",
    "\n",
    "    # Extract the Date, Time & Duration     \n",
    "    start_date = datetime.strptime(series['Time']+ \" \" + series['Date'], \"%I:%M %p %d-%b-%Y\")\n",
    "    duration = datetime.strptime(series['Duration'], \"%H:%M\")\n",
    "\n",
    "    # Calculate the End Date\n",
    "    end_date = start_date + timedelta(minutes = duration.minute, hours = duration.hour)\n",
    "\n",
    "    # Convert to Text ISO Format\n",
    "    start_date = datetime.isoformat(start_date, timespec='milliseconds')\n",
    "    end_date = datetime.isoformat(end_date, timespec='milliseconds')\n",
    "\n",
    "\n",
    "    \n",
    "\n",
    "    \n",
    "    tz = 'GMT+3:00'\n",
    "    event_bluprnt = {\n",
    "      'summary': series['Name'],\n",
    "      'location': 'Virtual',\n",
    "      'start': {\n",
    "        'dateTime': start_date,\n",
    "        'timeZone': tz\n",
    "      },\n",
    "      'end': {\n",
    "        'dateTime': end_date,\n",
    "          'timeZone': tz\n",
    "      },\n",
    "      \n",
    "    }\n",
    "    \n",
    "    # Check to see if the keywords for Frequency is valid\n",
    "    # [checking function here]\n",
    "    freq = series[\"Frequency\"].upper()\n",
    "    if freq not in [\"\", \"ONCE\"]:\n",
    "        event_bluprnt['recurrence'] = [ f'RRULE:FREQ={freq}' ]\n",
    "    \n",
    "    return event_bluprnt\n",
    "    \n",
    "    \n",
    "def initiate_event(event_bluprnt):\n",
    "    # Pubish the event\n",
    "    cal_code  = util_calendar.insert_event(event_bluprnt)\n",
    "    return cal_code\n",
    "    \n"
   ]
  },
  {
   "cell_type": "code",
   "execution_count": 8,
   "metadata": {},
   "outputs": [
    {
     "name": "stdout",
     "output_type": "stream",
     "text": [
      "Name                           IBM Data Science\n",
      "Duration                                   0:25\n",
      "Time                                    2:00 PM\n",
      "Date                                22-Jan-2021\n",
      "Frequency                                 Daily\n",
      "Google Calendar Invite Code                 dfd\n",
      "Update                                     TRUE\n",
      "Name: 0, dtype: object\n"
     ]
    }
   ],
   "source": [
    "event = df.loc[0]\n",
    "print(event)\n"
   ]
  },
  {
   "cell_type": "code",
   "execution_count": 30,
   "metadata": {},
   "outputs": [
    {
     "name": "stdout",
     "output_type": "stream",
     "text": [
      "{'summary': 'IBM Data Science', 'location': 'Virtual', 'start': {'dateTime': '2021-01-22T14:00:00.000', 'timeZone': 'GMT+3:00'}, 'end': {'dateTime': '2021-01-22T14:25:00.000', 'timeZone': 'GMT+3:00'}}\n",
      "Fields are missing for Course on Philosophy\n"
     ]
    }
   ],
   "source": [
    "for index in range(len(df)):\n",
    "    event = df.loc[index]\n",
    "    if event['Google Calendar Invite Code'] == '':\n",
    "        # Create New Event\n",
    "        mandatory_entries = event[['Name', 'Duration', 'Time', 'Date']]\n",
    "        if (mandatory_entries == \"\").any():\n",
    "            print(f\"Fields are missing for {event['Name']}\")\n",
    "        else:\n",
    "            event_bluprnt = calendar_dict(event)\n",
    "            print(event_bluprnt)\n",
    "            event_code = initiate_event(event_bluprnt)\n",
    "                  \n",
    "            # Write back to the dataframe with the returned Invite Code\n",
    "            df.loc[index,'Google Calendar Invite Code'] = event_code\n",
    "                  \n",
    "# Write back to the sheet\n",
    "study_sheet.set_dataframe(df, start='A2', copy_head=False)"
   ]
  }
 ],
 "metadata": {
  "kernelspec": {
   "display_name": "Python 3",
   "language": "python",
   "name": "python3"
  },
  "language_info": {
   "codemirror_mode": {
    "name": "ipython",
    "version": 3
   },
   "file_extension": ".py",
   "mimetype": "text/x-python",
   "name": "python",
   "nbconvert_exporter": "python",
   "pygments_lexer": "ipython3",
   "version": "3.6.9"
  }
 },
 "nbformat": 4,
 "nbformat_minor": 2
}
