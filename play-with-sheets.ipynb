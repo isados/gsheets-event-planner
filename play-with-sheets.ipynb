{
 "cells": [
  {
   "cell_type": "code",
   "execution_count": 1,
   "metadata": {},
   "outputs": [],
   "source": [
    "import pickle\n",
    "import os.path\n",
    "from googleapiclient.discovery import build\n",
    "from google_auth_oauthlib.flow import InstalledAppFlow\n",
    "from google.auth.transport.requests import Request\n",
    "from datetime import datetime, timedelta, timezone\n",
    "import util_calendar\n",
    "SCOPES = ['https://www.googleapis.com/auth/spreadsheets']\n",
    "\n",
    "\n",
    "itol = {num + 1 : chr(num + ord(\"A\")) for num in range(0,27)}\n"
   ]
  },
  {
   "cell_type": "code",
   "execution_count": 2,
   "metadata": {
    "scrolled": false
   },
   "outputs": [],
   "source": [
    "creds = None\n",
    "# The file token.pickle stores the user's access and refresh tokens, and is\n",
    "# created automatically when the authorization flow completes for the first\n",
    "# time.\n",
    "sheets_token_loc = 'creds_google/sheets-token.pickle'\n",
    "credentials_loc = 'creds_google/credentials.json'\n",
    "\n",
    "if os.path.exists(sheets_token_loc):\n",
    "    with open(sheets_token_loc, 'rb') as token:\n",
    "        creds = pickle.load(token)\n",
    "# If there are no (valid) credentials available, let the user log in.\n",
    "if not creds or not creds.valid:\n",
    "    if creds and creds.expired and creds.refresh_token:\n",
    "        creds.refresh(Request())\n",
    "    else:\n",
    "        flow = InstalledAppFlow.from_client_secrets_file(\n",
    "            credentials_loc, SCOPES)\n",
    "        creds = flow.run_local_server(port=0)\n",
    "    # Save the credentials for the next run\n",
    "    with open(sheets_token_loc, 'wb') as token:\n",
    "        pickle.dump(creds, token)\n",
    "\n",
    "service = build('sheets', 'v4', credentials=creds)\n",
    "\n",
    "# Call the Sheets API\n",
    "sheet = service.spreadsheets()\n",
    "\n",
    "\n"
   ]
  },
  {
   "cell_type": "code",
   "execution_count": 5,
   "metadata": {},
   "outputs": [
    {
     "data": {
      "text/plain": [
       "[['Name',\n",
       "  'Duration',\n",
       "  'Time',\n",
       "  'Date',\n",
       "  'Frequency',\n",
       "  'Google Calendar Invite Code',\n",
       "  'Update'],\n",
       " ['IBM Data Science', '0:25', '2:00 PM', '20-Jan-2021', 'Daily'],\n",
       " ['Course on Philosophy', '0:30', '5:00 PM', '25-Jan-2021', 'Weekly']]"
      ]
     },
     "execution_count": 5,
     "metadata": {},
     "output_type": "execute_result"
    }
   ],
   "source": [
    "# The ID and range of a sample spreadsheet.\n",
    "SPREADSHEET_ID = '1GDXzzTD1dBnXWcpjPXqfIjpLwxHtXVQtjwfLhCaZNHA'\n",
    "SHEET_NAME = 'STUDY-PLAN'\n",
    "RANGE_NAME = SHEET_NAME + '!A:G'\n",
    "\n",
    "result = sheet.values().get(spreadsheetId=SPREADSHEET_ID,\n",
    "                            range=RANGE_NAME).execute()\n",
    "\n",
    "values = result.get('values', [])\n",
    "values"
   ]
  },
  {
   "cell_type": "code",
   "execution_count": null,
   "metadata": {},
   "outputs": [],
   "source": []
  },
  {
   "cell_type": "code",
   "execution_count": 9,
   "metadata": {},
   "outputs": [
    {
     "name": "stdout",
     "output_type": "stream",
     "text": [
      "Fields of the study plan include the following : ['name', 'duration', 'time', 'date', 'frequency', 'google calendar invite code', 'update']\n",
      "{'summary': 'Appointment', 'location': 'Somewhere', 'start': {'dateTime': '2021-01-20T14:00:00.000', 'timeZone': 'GMT+3:00'}, 'end': {'dateTime': '2021-01-20T14:25:00.000', 'timeZone': 'GMT+3:00'}, 'recurrence': ['RRULE:FREQ=DAILY']}\n",
      "{'summary': 'Appointment', 'location': 'Somewhere', 'start': {'dateTime': '2021-01-25T17:00:00.000', 'timeZone': 'GMT+3:00'}, 'end': {'dateTime': '2021-01-25T17:30:00.000', 'timeZone': 'GMT+3:00'}, 'recurrence': ['RRULE:FREQ=WEEKLY']}\n"
     ]
    }
   ],
   "source": [
    "\n",
    "fields = values[0]\n",
    "fields = [_.lower() for _ in fields]\n",
    "print(f\"Fields of the study plan include the following : {fields}\")\n",
    "\n",
    "# Fill this list with Events Objects\n",
    "study_plans = []\n",
    "\n",
    "for index, row in enumerate(values[1:], 2):\n",
    "    \n",
    "    #check row for valid values\n",
    "    if \"\" in row:\n",
    "        print(\"Invalid Row : There are missing values\")\n",
    "    elif len(row) < 5:\n",
    "        print(\"Not enough fields present\")    \n",
    "    else:\n",
    "        series = dict(zip(fields,row))\n",
    "\n",
    "        # Now create Event dict\n",
    "        event = { \"row_index\" : index,\n",
    "                 \"series\" : series\n",
    "            }\n",
    "        \n",
    "        # Add that event to the study_plan\n",
    "        study_plans.append(event)\n",
    "        \n",
    "# Check to see if the event needs to be created/updated\n",
    "for event in study_plans:\n",
    "    \n",
    "    event_code = event['series'].get('google calendar invite code')\n",
    "    if event_code is not None:\n",
    "        # Update the event if the Updated Column is enabled\n",
    "        if event['series'].get('updated') == 'TRUE':\n",
    "            pass # Update\n",
    "            # finally disable the Updated Column, and add new code\n",
    "        else:\n",
    "            pass # Do Nothing\n",
    "\n",
    "    else:\n",
    "        # Create a new calendar event from this event\n",
    "        series = event['series'] # Create an alias\n",
    "        \n",
    "        # Extract the Date, Time & Duration     \n",
    "        start_date = datetime.strptime(series['time']+ \" \" + series['date'], \"%I:%M %p %d-%b-%Y\")\n",
    "        duration = datetime.strptime(series['duration'], \"%H:%M\")\n",
    "\n",
    "        # Calculate the End Date\n",
    "        end_date = start_date + timedelta(minutes = duration.minute, hours = duration.hour)\n",
    "\n",
    "        # Convert to Text ISO Format\n",
    "        start_date = datetime.isoformat(start_date, timespec='milliseconds')\n",
    "        end_date = datetime.isoformat(end_date, timespec='milliseconds')\n",
    "\n",
    "        tz = 'GMT+3:00'\n",
    "\n",
    "        # Check to see if the keywords for Frequency is valid\n",
    "        # [checking function here]\n",
    "        freq = series[\"frequency\"].upper()\n",
    "\n",
    "        event_bluprnt = {\n",
    "          'summary': 'Appointment',\n",
    "          'location': 'Somewhere',\n",
    "          'start': {\n",
    "            'dateTime': start_date,\n",
    "            'timeZone': tz\n",
    "          },\n",
    "          'end': {\n",
    "            'dateTime': end_date,\n",
    "              'timeZone': tz\n",
    "          },\n",
    "          'recurrence': [\n",
    "            f'RRULE:FREQ={freq}',\n",
    "          ],\n",
    "        }\n",
    "\n",
    "        print(event_bluprnt)\n",
    "\n",
    "\n",
    "        # Write the event code to the cell\n",
    "        new_cal_code  = util_calendar.insert_event(event_bluprnt)\n",
    "        values = [[new_cal_code]]\n",
    "        body = {\n",
    "            'values': values\n",
    "        }\n",
    "        range_name = f\"{SHEET_NAME}!\" + itol[6] + str(event['row_index'])\n",
    "        value_input_option = 'RAW'\n",
    "        result = service.spreadsheets().values().update(\n",
    "            spreadsheetId=SPREADSHEET_ID, range=range_name,\n",
    "            valueInputOption=value_input_option, body=body).execute()\n",
    "\n",
    "\n",
    "            \n",
    "            \n",
    "\n"
   ]
  },
  {
   "cell_type": "code",
   "execution_count": null,
   "metadata": {},
   "outputs": [],
   "source": [
    "event = {\n",
    "  'summary': 'Appointment',\n",
    "  'location': 'Somewhere',\n",
    "  'start': {\n",
    "    'dateTime': '2021-01-20T10:00:00.000',\n",
    "    'timeZone': 'GMT+3:00'\n",
    "  },\n",
    "  'end': {\n",
    "    'dateTime': '2021-01-20T10:25:00.000',\n",
    "      'timeZone': 'GMT+3:00'\n",
    "  },\n",
    "  'recurrence': [\n",
    "    'RRULE:FREQ=DAILY;UNTIL=20210201T170000Z',\n",
    "  ],\n",
    "}\n",
    "\n"
   ]
  },
  {
   "cell_type": "code",
   "execution_count": null,
   "metadata": {},
   "outputs": [],
   "source": [
    "# Get the RRULE date format\n",
    "# date_rrtime = datetime.strftime(date, \"%Y%m%dT235959Z\")\n",
    "# date_rrtime\n",
    "\n",
    "\n",
    "\n",
    "\n"
   ]
  }
 ],
 "metadata": {
  "kernelspec": {
   "display_name": "Python 3",
   "language": "python",
   "name": "python3"
  },
  "language_info": {
   "codemirror_mode": {
    "name": "ipython",
    "version": 3
   },
   "file_extension": ".py",
   "mimetype": "text/x-python",
   "name": "python",
   "nbconvert_exporter": "python",
   "pygments_lexer": "ipython3",
   "version": "3.6.9"
  }
 },
 "nbformat": 4,
 "nbformat_minor": 2
}
