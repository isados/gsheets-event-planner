{
 "cells": [
  {
   "cell_type": "code",
   "execution_count": 1,
   "metadata": {},
   "outputs": [],
   "source": [
    "import pandas as pd\n",
    "from datetime import datetime, timedelta\n",
    "import util_calendar"
   ]
  },
  {
   "cell_type": "code",
   "execution_count": 2,
   "metadata": {},
   "outputs": [],
   "source": [
    "import pygsheets\n",
    "gc = pygsheets.authorize(client_secret = 'creds_google/credentials.json')"
   ]
  },
  {
   "cell_type": "code",
   "execution_count": 3,
   "metadata": {},
   "outputs": [],
   "source": [
    "workbook = gc.open_by_key('1GDXzzTD1dBnXWcpjPXqfIjpLwxHtXVQtjwfLhCaZNHA')"
   ]
  },
  {
   "cell_type": "code",
   "execution_count": 4,
   "metadata": {},
   "outputs": [],
   "source": [
    "study_sheet = workbook.worksheet_by_title(\"STUDY-PLAN\")"
   ]
  },
  {
   "cell_type": "code",
   "execution_count": 5,
   "metadata": {},
   "outputs": [],
   "source": [
    "# Helper Functions        \n",
    "def create_event_json(series: dict) -> dict: \n",
    "    # Create a new calendar event from this event\n",
    "\n",
    "    # Extract the Date, Time & Duration     \n",
    "    start_date = datetime.strptime(series['Time']+ \" \" + series['Start Date'], \"%I:%M %p %d-%b-%Y\")\n",
    "    duration = datetime.strptime(series['Duration'], \"%H:%M\")\n",
    "\n",
    "    # Calculate the End Date\n",
    "    end_date = start_date + timedelta(minutes = duration.minute, hours = duration.hour)\n",
    "\n",
    "    \n",
    "    timezone = '+03:00'\n",
    "    \n",
    "    \n",
    "    # Convert to Text ISO Format\n",
    "#     datetime.isoformat(start_date, timespec='seconds') + timezone\n",
    "    start_date = datetime.isoformat(start_date, timespec='seconds') + timezone\n",
    "    end_date = datetime.isoformat(end_date, timespec='seconds') + timezone\n",
    "\n",
    "\n",
    "    \n",
    "\n",
    "    \n",
    "    \n",
    "    event_bluprnt = {\n",
    "      'summary': series['Name'],\n",
    "      'location': 'Virtual',\n",
    "      'start': { \n",
    "        'dateTime': start_date,\n",
    "        'timeZone': 'GMT' + timezone\n",
    "      },\n",
    "      'end': {\n",
    "        'dateTime': end_date,\n",
    "          'timeZone': 'GMT' + timezone\n",
    "      },\n",
    "      \n",
    "    }\n",
    "    \n",
    "    # Check to see if the keywords for frequency is valid\n",
    "    rrule = _generate_rrule_pattern(series[\"Frequency\"], series['End Date'])\n",
    "    if rrule != \"\":\n",
    "        event_bluprnt['recurrence'] = [rrule]\n",
    "    \n",
    "        \n",
    "    return event_bluprnt\n",
    "    \n",
    "    \n",
    "def initiate_event(event_bluprnt):\n",
    "    # Pubish the event\n",
    "    cal_code  = util_calendar.insert_event(event_bluprnt)\n",
    "    return cal_code\n",
    "    \n",
    "def _generate_rrule_pattern(freq_code, end_date=''):\n",
    "    \n",
    "    # sUnday, Monday, Tuesday, Wednesday, tHursday, Friday, Saturday\n",
    "    # FREQ=WEEKLY;BYDAY=SU,MO,TU,WE,TH,FR,SA\n",
    "    DAY_CODES = {'U':'SU', 'M':'MO', 'T':'TU', 'W':'WE', 'H':'TH', 'F':'FR', 'S':'SA'}\n",
    "    \n",
    "    freq_code = freq_code.upper()\n",
    "    rrule = ''\n",
    "    \n",
    "    if freq_code not in [\"\", \"ONCE\"]:\n",
    "        if freq_code in [\"WEEKLY\", \"DAILY\"]:\n",
    "            rrule = f'RRULE:FREQ={freq_code}'\n",
    "        else:\n",
    "            \n",
    "            repet_pattern = []\n",
    "            for letter in DAY_CODES:\n",
    "                if letter in freq_code:\n",
    "                    repet_pattern.append(DAY_CODES[letter])\n",
    "                    \n",
    "            if len(repet_pattern)>0:\n",
    "                repet_pattern = \",\".join(repet_pattern)\n",
    "                rrule = f'RRULE:FREQ=WEEKLY;BYDAY={repet_pattern};INTERVAL=1'\n",
    "                \n",
    "    if end_date is not '':\n",
    "        # Force Daily Pattern if \"end date\" exists\n",
    "        if rrule == '':\n",
    "            rrule = 'RRULE:FREQ=DAILY'\n",
    "            \n",
    "        # Add something like ;UNTIL=20210124T210000Z\n",
    "        end_date = datetime.strptime(end_date, \"%d-%b-%Y\")\n",
    "        end_date = datetime.strftime(end_date, \"%Y%m%dT235959Z\")\n",
    "        rrule += f\";UNTIL={end_date}\"\n",
    "                \n",
    "\n",
    "    return rrule \n"
   ]
  },
  {
   "cell_type": "code",
   "execution_count": 6,
   "metadata": {},
   "outputs": [
    {
     "data": {
      "text/plain": [
       "''"
      ]
     },
     "execution_count": 6,
     "metadata": {},
     "output_type": "execute_result"
    }
   ],
   "source": [
    "_generate_rrule_pattern(\"\")"
   ]
  },
  {
   "cell_type": "code",
   "execution_count": 53,
   "metadata": {},
   "outputs": [
    {
     "data": {
      "text/html": [
       "<div>\n",
       "<style scoped>\n",
       "    .dataframe tbody tr th:only-of-type {\n",
       "        vertical-align: middle;\n",
       "    }\n",
       "\n",
       "    .dataframe tbody tr th {\n",
       "        vertical-align: top;\n",
       "    }\n",
       "\n",
       "    .dataframe thead th {\n",
       "        text-align: right;\n",
       "    }\n",
       "</style>\n",
       "<table border=\"1\" class=\"dataframe\">\n",
       "  <thead>\n",
       "    <tr style=\"text-align: right;\">\n",
       "      <th></th>\n",
       "      <th>Name</th>\n",
       "      <th>Duration</th>\n",
       "      <th>Time</th>\n",
       "      <th>Start Date</th>\n",
       "      <th>End Date</th>\n",
       "      <th>Frequency</th>\n",
       "      <th>Control Action</th>\n",
       "      <th>Google Calendar Invite Code</th>\n",
       "    </tr>\n",
       "  </thead>\n",
       "  <tbody>\n",
       "    <tr>\n",
       "      <th>0</th>\n",
       "      <td>Course on Philosophy</td>\n",
       "      <td>1:30</td>\n",
       "      <td>3:00 PM</td>\n",
       "      <td></td>\n",
       "      <td></td>\n",
       "      <td></td>\n",
       "      <td></td>\n",
       "      <td></td>\n",
       "    </tr>\n",
       "    <tr>\n",
       "      <th>1</th>\n",
       "      <td>Morning Show</td>\n",
       "      <td>0:30</td>\n",
       "      <td>10:00 AM</td>\n",
       "      <td>23-Jan-2021</td>\n",
       "      <td></td>\n",
       "      <td></td>\n",
       "      <td>delete</td>\n",
       "      <td>3bv74if8moehshqiim9e99mhpg</td>\n",
       "    </tr>\n",
       "    <tr>\n",
       "      <th>2</th>\n",
       "      <td>Evening Show</td>\n",
       "      <td>1:30</td>\n",
       "      <td>7:00 PM</td>\n",
       "      <td>23-Jan-2021</td>\n",
       "      <td>24-Jan-2021</td>\n",
       "      <td></td>\n",
       "      <td>delete</td>\n",
       "      <td>hqta52u0r1nt0654pngh5aefjk</td>\n",
       "    </tr>\n",
       "    <tr>\n",
       "      <th>3</th>\n",
       "      <td>IBM Data Science</td>\n",
       "      <td>0:25</td>\n",
       "      <td>10:00 PM</td>\n",
       "      <td>22-Jan-2021</td>\n",
       "      <td></td>\n",
       "      <td>MTWHSU</td>\n",
       "      <td></td>\n",
       "      <td>ndbm7nrrj64gb2mefj3ldgqmnc</td>\n",
       "    </tr>\n",
       "  </tbody>\n",
       "</table>\n",
       "</div>"
      ],
      "text/plain": [
       "                   Name Duration      Time   Start Date     End Date  \\\n",
       "0  Course on Philosophy     1:30   3:00 PM                             \n",
       "1          Morning Show     0:30  10:00 AM  23-Jan-2021                \n",
       "2          Evening Show     1:30   7:00 PM  23-Jan-2021  24-Jan-2021   \n",
       "3      IBM Data Science     0:25  10:00 PM  22-Jan-2021                \n",
       "\n",
       "  Frequency Control Action Google Calendar Invite Code  \n",
       "0                                                       \n",
       "1                   delete  3bv74if8moehshqiim9e99mhpg  \n",
       "2                   delete  hqta52u0r1nt0654pngh5aefjk  \n",
       "3    MTWHSU                 ndbm7nrrj64gb2mefj3ldgqmnc  "
      ]
     },
     "execution_count": 53,
     "metadata": {},
     "output_type": "execute_result"
    }
   ],
   "source": [
    "df = study_sheet.get_as_df(start=\"A\", end=\"H\")\n",
    "df"
   ]
  },
  {
   "cell_type": "code",
   "execution_count": 54,
   "metadata": {},
   "outputs": [
    {
     "name": "stdout",
     "output_type": "stream",
     "text": [
      "Fields are missing for Course on Philosophy\n",
      "Event : Morning Show was deleted\n",
      "Event : Evening Show was deleted\n"
     ]
    }
   ],
   "source": [
    "new_df = pd.DataFrame(columns=df.columns)\n",
    "\n",
    "for index in range(len(df)):\n",
    "    event = df.loc[index]\n",
    "    event_code = event['Google Calendar Invite Code']\n",
    "    control_action = event['Control Action'].lower()\n",
    "    \n",
    "    if event_code == '':\n",
    "        # Create New Event\n",
    "        mandatory_entries = event[['Name', 'Duration', 'Time', 'Start Date']]\n",
    "        if (mandatory_entries == \"\").any():\n",
    "            print(f\"Fields are missing for {event['Name']}\")\n",
    "        else:\n",
    "            # Create Event\n",
    "            event_bluprnt = create_event_json(event)\n",
    "            print(event_bluprnt)\n",
    "            event_code = initiate_event(event_bluprnt)\n",
    "                  \n",
    "            # Write to the new dataframe with the returned Invite Code\n",
    "            event['Google Calendar Invite Code'] = event_code\n",
    "                  \n",
    "    else:\n",
    "        if control_action == 'delete':\n",
    "            util_calendar.delete_event(event_code)\n",
    "            print(f\"Event : {event['Name']} was deleted\")\n",
    "            continue\n",
    "            \n",
    "        if control_action == 'update':\n",
    "            event_bluprnt = create_event_json(event)\n",
    "            util_calendar.update_event(event_bluprnt, event_code)\n",
    "            event['Control Action'] = ''\n",
    "\n",
    "    new_df = new_df.append(event, ignore_index=True)\n",
    "                  \n",
    "# Keep new dataframe the same size as the old one.\n",
    "for _ in range(0,len(df)-len(new_df)):\n",
    "    new_df = new_df.append(pd.Series(), ignore_index=True)\n",
    "    new_df.iloc[-1] = \"\"\n",
    "\n",
    "# Write back to the sheet                  \n",
    "study_sheet.set_dataframe(new_df, start='A2', copy_head=False)"
   ]
  },
  {
   "cell_type": "code",
   "execution_count": 14,
   "metadata": {},
   "outputs": [
    {
     "ename": "TypeError",
     "evalue": "cannot concatenate object of type '<class 'str'>'; only Series and DataFrame objs are valid",
     "output_type": "error",
     "traceback": [
      "\u001b[0;31m---------------------------------------------------------------------------\u001b[0m",
      "\u001b[0;31mTypeError\u001b[0m                                 Traceback (most recent call last)",
      "\u001b[0;32m<ipython-input-14-2355d1744a62>\u001b[0m in \u001b[0;36m<module>\u001b[0;34m\u001b[0m\n\u001b[0;32m----> 1\u001b[0;31m \u001b[0mdf\u001b[0m\u001b[0;34m.\u001b[0m\u001b[0mappend\u001b[0m\u001b[0;34m(\u001b[0m\u001b[0;34m''\u001b[0m\u001b[0;34m)\u001b[0m\u001b[0;34m\u001b[0m\u001b[0;34m\u001b[0m\u001b[0m\n\u001b[0m",
      "\u001b[0;32m~/.local/lib/python3.6/site-packages/pandas/core/frame.py\u001b[0m in \u001b[0;36mappend\u001b[0;34m(self, other, ignore_index, verify_integrity, sort)\u001b[0m\n\u001b[1;32m   7136\u001b[0m             \u001b[0mignore_index\u001b[0m\u001b[0;34m=\u001b[0m\u001b[0mignore_index\u001b[0m\u001b[0;34m,\u001b[0m\u001b[0;34m\u001b[0m\u001b[0;34m\u001b[0m\u001b[0m\n\u001b[1;32m   7137\u001b[0m             \u001b[0mverify_integrity\u001b[0m\u001b[0;34m=\u001b[0m\u001b[0mverify_integrity\u001b[0m\u001b[0;34m,\u001b[0m\u001b[0;34m\u001b[0m\u001b[0;34m\u001b[0m\u001b[0m\n\u001b[0;32m-> 7138\u001b[0;31m             \u001b[0msort\u001b[0m\u001b[0;34m=\u001b[0m\u001b[0msort\u001b[0m\u001b[0;34m,\u001b[0m\u001b[0;34m\u001b[0m\u001b[0;34m\u001b[0m\u001b[0m\n\u001b[0m\u001b[1;32m   7139\u001b[0m         )\n\u001b[1;32m   7140\u001b[0m \u001b[0;34m\u001b[0m\u001b[0m\n",
      "\u001b[0;32m~/.local/lib/python3.6/site-packages/pandas/core/reshape/concat.py\u001b[0m in \u001b[0;36mconcat\u001b[0;34m(objs, axis, join, join_axes, ignore_index, keys, levels, names, verify_integrity, sort, copy)\u001b[0m\n\u001b[1;32m    253\u001b[0m         \u001b[0mverify_integrity\u001b[0m\u001b[0;34m=\u001b[0m\u001b[0mverify_integrity\u001b[0m\u001b[0;34m,\u001b[0m\u001b[0;34m\u001b[0m\u001b[0;34m\u001b[0m\u001b[0m\n\u001b[1;32m    254\u001b[0m         \u001b[0mcopy\u001b[0m\u001b[0;34m=\u001b[0m\u001b[0mcopy\u001b[0m\u001b[0;34m,\u001b[0m\u001b[0;34m\u001b[0m\u001b[0;34m\u001b[0m\u001b[0m\n\u001b[0;32m--> 255\u001b[0;31m         \u001b[0msort\u001b[0m\u001b[0;34m=\u001b[0m\u001b[0msort\u001b[0m\u001b[0;34m,\u001b[0m\u001b[0;34m\u001b[0m\u001b[0;34m\u001b[0m\u001b[0m\n\u001b[0m\u001b[1;32m    256\u001b[0m     )\n\u001b[1;32m    257\u001b[0m \u001b[0;34m\u001b[0m\u001b[0m\n",
      "\u001b[0;32m~/.local/lib/python3.6/site-packages/pandas/core/reshape/concat.py\u001b[0m in \u001b[0;36m__init__\u001b[0;34m(self, objs, axis, join, join_axes, keys, levels, names, ignore_index, verify_integrity, copy, sort)\u001b[0m\n\u001b[1;32m    330\u001b[0m                     \u001b[0;34m\" only Series and DataFrame objs are valid\"\u001b[0m\u001b[0;34m.\u001b[0m\u001b[0mformat\u001b[0m\u001b[0;34m(\u001b[0m\u001b[0mtype\u001b[0m\u001b[0;34m(\u001b[0m\u001b[0mobj\u001b[0m\u001b[0;34m)\u001b[0m\u001b[0;34m)\u001b[0m\u001b[0;34m\u001b[0m\u001b[0;34m\u001b[0m\u001b[0m\n\u001b[1;32m    331\u001b[0m                 )\n\u001b[0;32m--> 332\u001b[0;31m                 \u001b[0;32mraise\u001b[0m \u001b[0mTypeError\u001b[0m\u001b[0;34m(\u001b[0m\u001b[0mmsg\u001b[0m\u001b[0;34m)\u001b[0m\u001b[0;34m\u001b[0m\u001b[0;34m\u001b[0m\u001b[0m\n\u001b[0m\u001b[1;32m    333\u001b[0m \u001b[0;34m\u001b[0m\u001b[0m\n\u001b[1;32m    334\u001b[0m             \u001b[0;31m# consolidate\u001b[0m\u001b[0;34m\u001b[0m\u001b[0;34m\u001b[0m\u001b[0;34m\u001b[0m\u001b[0m\n",
      "\u001b[0;31mTypeError\u001b[0m: cannot concatenate object of type '<class 'str'>'; only Series and DataFrame objs are valid"
     ]
    }
   ],
   "source": []
  },
  {
   "cell_type": "code",
   "execution_count": null,
   "metadata": {},
   "outputs": [],
   "source": []
  },
  {
   "cell_type": "code",
   "execution_count": null,
   "metadata": {},
   "outputs": [],
   "source": [
    "df_.iloc[len(df_)-1] = \"\"\n",
    "df_"
   ]
  }
 ],
 "metadata": {
  "kernelspec": {
   "display_name": "Python 3",
   "language": "python",
   "name": "python3"
  },
  "language_info": {
   "codemirror_mode": {
    "name": "ipython",
    "version": 3
   },
   "file_extension": ".py",
   "mimetype": "text/x-python",
   "name": "python",
   "nbconvert_exporter": "python",
   "pygments_lexer": "ipython3",
   "version": "3.6.9"
  }
 },
 "nbformat": 4,
 "nbformat_minor": 2
}
