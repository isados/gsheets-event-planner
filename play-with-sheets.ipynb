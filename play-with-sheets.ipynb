{
 "cells": [
  {
   "cell_type": "code",
   "execution_count": 1,
   "metadata": {},
   "outputs": [],
   "source": [
    "import pandas as pd\n",
    "from datetime import datetime, timedelta\n",
    "import util_calendar"
   ]
  },
  {
   "cell_type": "code",
   "execution_count": 2,
   "metadata": {},
   "outputs": [],
   "source": [
    "import pygsheets\n",
    "gc = pygsheets.authorize(client_secret = 'creds_google/credentials.json')"
   ]
  },
  {
   "cell_type": "code",
   "execution_count": 3,
   "metadata": {},
   "outputs": [],
   "source": [
    "workbook = gc.open_by_key('1GDXzzTD1dBnXWcpjPXqfIjpLwxHtXVQtjwfLhCaZNHA')"
   ]
  },
  {
   "cell_type": "code",
   "execution_count": 4,
   "metadata": {},
   "outputs": [],
   "source": [
    "study_sheet = workbook.worksheet_by_title(\"STUDY-PLAN\")"
   ]
  },
  {
   "cell_type": "code",
   "execution_count": 6,
   "metadata": {},
   "outputs": [],
   "source": [
    "# Helper Functions        \n",
    "def create_event_json(series: dict) -> dict: \n",
    "    # Create a new calendar event from this event\n",
    "\n",
    "    # Extract the Date, Time & Duration     \n",
    "    start_date = datetime.strptime(series['Time']+ \" \" + series['Start Date'], \"%I:%M %p %d-%b-%Y\")\n",
    "    duration = datetime.strptime(series['Duration'], \"%H:%M\")\n",
    "\n",
    "    # Calculate the End Date\n",
    "    end_date = start_date + timedelta(minutes = duration.minute, hours = duration.hour)\n",
    "\n",
    "    # Convert to Text ISO Format\n",
    "    start_date = datetime.isoformat(start_date, timespec='milliseconds')\n",
    "    end_date = datetime.isoformat(end_date, timespec='milliseconds')\n",
    "\n",
    "\n",
    "    \n",
    "\n",
    "    \n",
    "    timezone = 'GMT+3:00'\n",
    "    event_bluprnt = {\n",
    "      'summary': series['Name'],\n",
    "      'location': 'Virtual',\n",
    "      'start': {\n",
    "        'dateTime': start_date,\n",
    "        'timeZone': timezone\n",
    "      },\n",
    "      'end': {\n",
    "        'dateTime': end_date,\n",
    "          'timeZone': timezone\n",
    "      },\n",
    "      \n",
    "    }\n",
    "    \n",
    "    # Check to see if the keywords for frequency is valid\n",
    "    rrule = _generate_rrule_pattern(series[\"Frequency\"], series['End Date'])\n",
    "    if rrule != \"\":\n",
    "        event_bluprnt['recurrence'] = [rrule]\n",
    "    \n",
    "        \n",
    "    return event_bluprnt\n",
    "    \n",
    "    \n",
    "def initiate_event(event_bluprnt):\n",
    "    # Pubish the event\n",
    "    cal_code  = util_calendar.insert_event(event_bluprnt)\n",
    "    return cal_code\n",
    "    \n",
    "def _generate_rrule_pattern(freq_code, end_date=''):\n",
    "    \n",
    "    # sUnday, Monday, Tuesday, Wednesday, tHursday, Friday, Saturday\n",
    "    # FREQ=WEEKLY;BYDAY=SU,MO,TU,WE,TH,FR,SA\n",
    "    DAY_CODES = {'U':'SU', 'M':'MO', 'T':'TU', 'W':'WE', 'H':'TH', 'F':'FR', 'S':'SA'}\n",
    "    \n",
    "    freq_code = freq_code.upper()\n",
    "    rrule = ''\n",
    "    \n",
    "    if freq_code not in [\"\", \"ONCE\"]:\n",
    "        if freq_code in [\"WEEKLY\", \"DAILY\"]:\n",
    "            rrule = f'RRULE:FREQ={freq_code}'\n",
    "        else:\n",
    "            \n",
    "            repet_pattern = []\n",
    "            for letter in DAY_CODES:\n",
    "                if letter in freq_code:\n",
    "                    repet_pattern.append(DAY_CODES[letter])\n",
    "                    \n",
    "            if len(repet_pattern)>0:\n",
    "                repet_pattern = \",\".join(repet_pattern)\n",
    "                rrule = f'RRULE:FREQ=WEEKLY;BYDAY={repet_pattern};INTERVAL=1'\n",
    "                \n",
    "    if end_date is not '':\n",
    "        # Force Daily Pattern if \"end date\" exists\n",
    "        if rrule == '':\n",
    "            rrule = 'RRULE:FREQ=DAILY'\n",
    "            \n",
    "        # Add something like ;UNTIL=20210124T210000Z\n",
    "        end_date = datetime.strptime(end_date, \"%d-%b-%Y\")\n",
    "        end_date = datetime.strftime(end_date, \"%Y%m%dT235959Z\")\n",
    "        rrule += f\";UNTIL={end_date}\"\n",
    "                \n",
    "\n",
    "    return rrule \n"
   ]
  },
  {
   "cell_type": "code",
   "execution_count": null,
   "metadata": {},
   "outputs": [],
   "source": [
    "_generate_rrule_pattern(\"\")"
   ]
  },
  {
   "cell_type": "code",
   "execution_count": 8,
   "metadata": {},
   "outputs": [
    {
     "data": {
      "text/html": [
       "<div>\n",
       "<style scoped>\n",
       "    .dataframe tbody tr th:only-of-type {\n",
       "        vertical-align: middle;\n",
       "    }\n",
       "\n",
       "    .dataframe tbody tr th {\n",
       "        vertical-align: top;\n",
       "    }\n",
       "\n",
       "    .dataframe thead th {\n",
       "        text-align: right;\n",
       "    }\n",
       "</style>\n",
       "<table border=\"1\" class=\"dataframe\">\n",
       "  <thead>\n",
       "    <tr style=\"text-align: right;\">\n",
       "      <th></th>\n",
       "      <th>Name</th>\n",
       "      <th>Duration</th>\n",
       "      <th>Time</th>\n",
       "      <th>Start Date</th>\n",
       "      <th>End Date</th>\n",
       "      <th>Frequency</th>\n",
       "      <th>Google Calendar Invite Code</th>\n",
       "      <th>Update</th>\n",
       "    </tr>\n",
       "  </thead>\n",
       "  <tbody>\n",
       "    <tr>\n",
       "      <th>0</th>\n",
       "      <td>IBM Data Science</td>\n",
       "      <td>0:25</td>\n",
       "      <td>2:00 PM</td>\n",
       "      <td>22-Jan-2021</td>\n",
       "      <td></td>\n",
       "      <td></td>\n",
       "      <td></td>\n",
       "      <td></td>\n",
       "    </tr>\n",
       "    <tr>\n",
       "      <th>1</th>\n",
       "      <td>Course on Philosophy</td>\n",
       "      <td>0:30</td>\n",
       "      <td></td>\n",
       "      <td>25-Jan-2021</td>\n",
       "      <td></td>\n",
       "      <td>Weekly</td>\n",
       "      <td></td>\n",
       "      <td></td>\n",
       "    </tr>\n",
       "  </tbody>\n",
       "</table>\n",
       "</div>"
      ],
      "text/plain": [
       "                   Name Duration     Time   Start Date End Date Frequency  \\\n",
       "0      IBM Data Science     0:25  2:00 PM  22-Jan-2021                      \n",
       "1  Course on Philosophy     0:30           25-Jan-2021             Weekly   \n",
       "\n",
       "  Google Calendar Invite Code Update  \n",
       "0                                     \n",
       "1                                     "
      ]
     },
     "execution_count": 8,
     "metadata": {},
     "output_type": "execute_result"
    }
   ],
   "source": [
    "df = study_sheet.get_as_df(start=\"A\", end=\"H\")\n",
    "df"
   ]
  },
  {
   "cell_type": "code",
   "execution_count": 10,
   "metadata": {},
   "outputs": [
    {
     "name": "stdout",
     "output_type": "stream",
     "text": [
      "Fields are missing for Course on Philosophy\n"
     ]
    }
   ],
   "source": [
    "for index in range(len(df)):\n",
    "    event = df.loc[index]\n",
    "    if event['Google Calendar Invite Code'] == '':\n",
    "        # Create New Event\n",
    "        mandatory_entries = event[['Name', 'Duration', 'Time', 'Start Date']]\n",
    "        if (mandatory_entries == \"\").any():\n",
    "            print(f\"Fields are missing for {event['Name']}\")\n",
    "        else:\n",
    "            event_bluprnt = create_event_json(event)\n",
    "            print(event_bluprnt)\n",
    "            event_code = initiate_event(event_bluprnt)\n",
    "                  \n",
    "            # Write back to the dataframe with the returned Invite Code\n",
    "            df.loc[index,'Google Calendar Invite Code'] = event_code\n",
    "                  \n",
    "# Write back to the sheet\n",
    "study_sheet.set_dataframe(df, start='A2', copy_head=False)"
   ]
  }
 ],
 "metadata": {
  "kernelspec": {
   "display_name": "Python 3",
   "language": "python",
   "name": "python3"
  },
  "language_info": {
   "codemirror_mode": {
    "name": "ipython",
    "version": 3
   },
   "file_extension": ".py",
   "mimetype": "text/x-python",
   "name": "python",
   "nbconvert_exporter": "python",
   "pygments_lexer": "ipython3",
   "version": "3.6.9"
  }
 },
 "nbformat": 4,
 "nbformat_minor": 2
}
