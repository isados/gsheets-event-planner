{
 "cells": [
  {
   "cell_type": "code",
   "execution_count": 4,
   "metadata": {},
   "outputs": [],
   "source": [
    "from __future__ import print_function\n",
    "import datetime\n",
    "import pickle\n",
    "import os.path\n",
    "from googleapiclient.discovery import build\n",
    "from google_auth_oauthlib.flow import InstalledAppFlow\n",
    "from google.auth.transport.requests import Request\n",
    "import pandas as pd\n",
    "# If modifying these scopes, delete the file token.pickle.\n",
    "SCOPES = ['https://www.googleapis.com/auth/calendar']\n",
    "\n",
    "\n"
   ]
  },
  {
   "cell_type": "code",
   "execution_count": 5,
   "metadata": {},
   "outputs": [
    {
     "name": "stdout",
     "output_type": "stream",
     "text": [
      "Getting the upcoming 10 events\n",
      "2021-01-22T22:00:00+03:00 IBM Data Science\n",
      "2021-01-23T17:00:00+03:00 Empty\n",
      "2021-01-23T22:00:00+03:00 IBM Data Science\n",
      "2021-01-24T13:00:00+03:00 Work\n",
      "2021-01-24T17:00:00+03:00 Empty\n",
      "2021-01-24T20:00:00+03:00 Resources : Weekly Checklist DDL\n",
      "2021-01-24T21:00:00+03:00 EB SHA3'AF MEETING\n",
      "2021-01-24T22:00:00+03:00 IBM Data Science\n",
      "2021-01-25T17:00:00+03:00 Empty\n",
      "2021-01-25T22:00:00+03:00 IBM Data Science\n"
     ]
    }
   ],
   "source": [
    "\n",
    "\"\"\"Shows basic usage of the Google Calendar API.\n",
    "Prints the start and name of the next 10 events on the user's calendar.\n",
    "\"\"\"\n",
    "creds = None\n",
    "# The file token.pickle stores the user's access and refresh tokens, and is\n",
    "# created automatically when the authorization flow completes for the first\n",
    "# time.\n",
    "calendar_token_loc = 'creds_google/calendar-token.pickle'\n",
    "credentials_loc = 'creds_google/credentials.json'\n",
    "\n",
    "if os.path.exists(calendar_token_loc):\n",
    "    with open(calendar_token_loc, 'rb') as token:\n",
    "        creds = pickle.load(token)\n",
    "# If there are no (valid) credentials available, let the user log in.\n",
    "if not creds or not creds.valid:\n",
    "    if creds and creds.expired and creds.refresh_token:\n",
    "        creds.refresh(Request())\n",
    "    else:\n",
    "        flow = InstalledAppFlow.from_client_secrets_file(\n",
    "            credentials_loc, SCOPES)\n",
    "        creds = flow.run_local_server(port=0)\n",
    "    # Save the credentials for the next run\n",
    "    with open(calendar_token_loc, 'wb') as token:\n",
    "        pickle.dump(creds, token)\n",
    "\n",
    "service = build('calendar', 'v3', credentials=creds)\n",
    "# Call the Calendar API\n",
    "now = datetime.datetime.utcnow().isoformat() + 'Z' # 'Z' indicates UTC time\n",
    "print('Getting the upcoming 10 events')\n",
    "events_result = service.events().list(calendarId='primary', timeMin=now,\n",
    "                                    maxResults=10, singleEvents=True,\n",
    "                                    orderBy='startTime').execute()\n",
    "\n",
    "events = events_result.get('items', [])\n",
    "\n",
    "if not events:\n",
    "    print('No upcoming events found.')\n",
    "for event in events:\n",
    "    start = event['start'].get('dateTime', event['start'].get('date'))\n",
    "    print(start, event['summary'])\n",
    "\n"
   ]
  },
  {
   "cell_type": "code",
   "execution_count": 26,
   "metadata": {},
   "outputs": [],
   "source": [
    "event = {'summary': 'Control', 'location': 'Virtual', 'start': {'dateTime': '2021-01-22T17:00:00+03:00', 'timeZone': 'GMT+03:00'}, 'end': {'dateTime': '2021-01-22T17:30:00+03:00', 'timeZone': 'GMT+03:00'}, 'recurrence': ['RRULE:FREQ=DAILY;UNTIL=20210125T235959Z']}\n",
    "\n",
    "code = 'ftt7hrhctc3rt8vlmjmfaavl1o'"
   ]
  },
  {
   "cell_type": "code",
   "execution_count": 27,
   "metadata": {},
   "outputs": [
    {
     "name": "stdout",
     "output_type": "stream",
     "text": [
      "The event was updated at 2021-01-22T15:36:01.409Z\n",
      "summary : Control\n"
     ]
    }
   ],
   "source": [
    "update_event(event, code)"
   ]
  },
  {
   "cell_type": "code",
   "execution_count": 43,
   "metadata": {},
   "outputs": [
    {
     "data": {
      "text/plain": [
       "True"
      ]
     },
     "execution_count": 43,
     "metadata": {},
     "output_type": "execute_result"
    }
   ],
   "source": [
    "{'dateTime': '2021-01-22T17:00:00.000', 'timeZone': 'GMT+3:00'} == {'dateTime': '2021-01-22T17:00:00.000', 'timeZone': 'GMT+3:00'}"
   ]
  },
  {
   "cell_type": "code",
   "execution_count": 24,
   "metadata": {},
   "outputs": [],
   "source": [
    "def update_event(proposed_event, event_code):\n",
    "    \n",
    "    changed_fields = []\n",
    "    current_event = service.events().get(calendarId='primary', eventId=event_code).execute()\n",
    "    \n",
    "    # Check to see if there is any change\n",
    "    for field in proposed_event:\n",
    "        if proposed_event[field] != current_event[field]:\n",
    "            booop = current_event[field]\n",
    "            beeep = proposed_event[field]\n",
    "            current_event[field] = proposed_event[field]\n",
    "            changed_fields.append(f'{field} : {current_event[field]}')\n",
    "    \n",
    "    \n",
    "    # Update the event        \n",
    "    if len(changed_fields) > 0:\n",
    "        updated_event = service.events().update(calendarId='primary', eventId=event_code, body=current_event).execute()\n",
    "        print(f\"The event was updated at {updated_event['updated']}\")\n",
    "        for field in changed_fields: print(field)\n",
    "    else:\n",
    "        print(f\"No change to {current_event['summary']} was necessary\")\n",
    "                                  \n",
    "    "
   ]
  },
  {
   "cell_type": "code",
   "execution_count": 14,
   "metadata": {},
   "outputs": [
    {
     "name": "stdout",
     "output_type": "stream",
     "text": [
      "{'dateTime': '2021-01-22T17:30:00.000', 'timeZone': 'GMT+3:00'} {'dateTime': '2021-01-22T17:30:00+03:00', 'timeZone': 'GMT+03:00'}\n"
     ]
    }
   ],
   "source": []
  },
  {
   "cell_type": "code",
   "execution_count": 28,
   "metadata": {},
   "outputs": [
    {
     "name": "stdout",
     "output_type": "stream",
     "text": [
      "dict_keys(['attachments', 'creator', 'organizer', 'summary', 'id', 'hangoutLink', 'attendees', 'start', 'htmlLink', 'recurrence', 'source', 'etag', 'location', 'recurringEventId', 'gadget', 'status', 'updated', 'description', 'iCalUID', 'extendedProperties', 'endTimeUnspecified', 'sequence', 'visibility', 'guestsCanModify', 'end', 'attendeesOmitted', 'kind', 'locked', 'anyoneCanAddSelf', 'colorId', 'created', 'reminders', 'guestsCanSeeOtherGuests', 'originalStartTime', 'guestsCanInviteOthers', 'transparency', 'privateCopy', 'conferenceData'])\n"
     ]
    },
    {
     "data": {
      "text/plain": [
       "{'date': 'A String', 'timeZone': 'A String', 'dateTime': 'A String'}"
      ]
     },
     "execution_count": 28,
     "metadata": {},
     "output_type": "execute_result"
    }
   ],
   "source": [
    "print(_.keys())\n",
    "_['start']"
   ]
  },
  {
   "cell_type": "code",
   "execution_count": 6,
   "metadata": {},
   "outputs": [
    {
     "name": "stdout",
     "output_type": "stream",
     "text": [
      "hh3tv9od5rbpd0jue2dib69ssc\n"
     ]
    }
   ],
   "source": [
    "event = {\n",
    "  'summary': 'Appointment',\n",
    "  'location': 'Somewhere',\n",
    "  'start': {\n",
    "    'dateTime': '2021-01-20T10:00:00.000',\n",
    "    'timeZone': 'GMT+3:00'\n",
    "  },\n",
    "  'end': {\n",
    "    'dateTime': '2021-01-20T10:25:00.000',\n",
    "      'timeZone': 'GMT+3:00'\n",
    "  },\n",
    "  'recurrence': [\n",
    "    'RRULE:FREQ=DAILY;UNTIL=20210122T235959Z',\n",
    "  ],\n",
    "}\n",
    "recurring_event = service.events().insert(calendarId='primary', body=event).execute()\n",
    "\n",
    "print( recurring_event['id'])"
   ]
  }
 ],
 "metadata": {
  "kernelspec": {
   "display_name": "Python 3",
   "language": "python",
   "name": "python3"
  },
  "language_info": {
   "codemirror_mode": {
    "name": "ipython",
    "version": 3
   },
   "file_extension": ".py",
   "mimetype": "text/x-python",
   "name": "python",
   "nbconvert_exporter": "python",
   "pygments_lexer": "ipython3",
   "version": "3.6.9"
  }
 },
 "nbformat": 4,
 "nbformat_minor": 2
}
